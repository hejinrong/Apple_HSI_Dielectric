{
 "cells": [
  {
   "cell_type": "code",
   "execution_count": 1,
   "metadata": {},
   "outputs": [],
   "source": [
    "from scipy.io import loadmat\n",
    "from mvlearn.embed import MCCA, KMCCA\n",
    "import numpy as np\n",
    "from mvlearn.compose import ViewTransformer, ConcatMerger\n",
    "from imblearn.over_sampling import SMOTE\n",
    "from sklearn import metrics\n",
    "from sklearn.neighbors import KNeighborsClassifier\n",
    "from sklearn.tree import DecisionTreeClassifier\n",
    "from sklearn.svm import SVC\n",
    "from sklearn.model_selection import StratifiedKFold\n",
    "from sklearn import preprocessing\n",
    "\n",
    "import warnings\n",
    "warnings.filterwarnings(\"ignore\")"
   ]
  },
  {
   "cell_type": "code",
   "execution_count": 2,
   "metadata": {},
   "outputs": [],
   "source": [
    "mcca = MCCA(n_components=15)\n",
    "merge = ConcatMerger()\n",
    "\n",
    "kfold = StratifiedKFold(n_splits=5, shuffle=True)\n",
    "Sensitive = []\n",
    "Specificity = []\n",
    "Precision = []"
   ]
  },
  {
   "cell_type": "code",
   "execution_count": 3,
   "metadata": {},
   "outputs": [],
   "source": [
    "data_path = r\"D:\\WorkSpace\\DataSets\\To石延新-苹果检测光电数据\\何进荣处理后的数据\\HSI_Dielectric_Data.mat\"\n",
    "data = loadmat(data_path)\n",
    "\n",
    "y = data['Label']\n",
    "Xs0 = data[\"Data1\"].T\n",
    "Xs1 = data[\"Data2\"].T"
   ]
  },
  {
   "cell_type": "code",
   "execution_count": 4,
   "metadata": {},
   "outputs": [
    {
     "name": "stdout",
     "output_type": "stream",
     "text": [
      "(265, 399)\n"
     ]
    }
   ],
   "source": [
    "Xs = [Xs0, Xs1]\n",
    "\n",
    "X_transformed = merge.fit_transform(Xs)\n",
    "print(X_transformed.shape)\n",
    "\n",
    "X_resampled_smote, y_resampled_smote = SMOTE().fit_sample(X_transformed, y)"
   ]
  },
  {
   "cell_type": "code",
   "execution_count": 5,
   "metadata": {},
   "outputs": [
    {
     "ename": "ValueError",
     "evalue": "Eigenvalue problem has a singular matrix. Add regularization (set `regs` to nonzero value) or reduce the rank (set `signal_rank` low enough).",
     "output_type": "error",
     "traceback": [
      "\u001b[1;31m---------------------------------------------------------------------------\u001b[0m",
      "\u001b[1;31mLinAlgError\u001b[0m                               Traceback (most recent call last)",
      "\u001b[1;32mD:\\Program Files\\Works\\Anaconda3\\lib\\site-packages\\mvlearn-0.4.1-py3.7.egg\\mvlearn\\embed\\mcca.py\u001b[0m in \u001b[0;36m_mcca_gevp\u001b[1;34m(Xs, n_components, regs)\u001b[0m\n\u001b[0;32m    329\u001b[0m     \u001b[1;32mtry\u001b[0m\u001b[1;33m:\u001b[0m\u001b[1;33m\u001b[0m\u001b[1;33m\u001b[0m\u001b[0m\n\u001b[1;32m--> 330\u001b[1;33m         \u001b[0mgevals\u001b[0m\u001b[1;33m,\u001b[0m \u001b[0mge_loadings\u001b[0m \u001b[1;33m=\u001b[0m \u001b[0meigh_wrapper\u001b[0m\u001b[1;33m(\u001b[0m\u001b[0mA\u001b[0m\u001b[1;33m=\u001b[0m\u001b[0mLHS\u001b[0m\u001b[1;33m,\u001b[0m \u001b[0mB\u001b[0m\u001b[1;33m=\u001b[0m\u001b[0mRHS\u001b[0m\u001b[1;33m,\u001b[0m \u001b[0mrank\u001b[0m\u001b[1;33m=\u001b[0m\u001b[0mn_components\u001b[0m\u001b[1;33m)\u001b[0m\u001b[1;33m\u001b[0m\u001b[1;33m\u001b[0m\u001b[0m\n\u001b[0m\u001b[0;32m    331\u001b[0m     \u001b[1;32mexcept\u001b[0m \u001b[0mnp\u001b[0m\u001b[1;33m.\u001b[0m\u001b[0mlinalg\u001b[0m\u001b[1;33m.\u001b[0m\u001b[0mLinAlgError\u001b[0m \u001b[1;32mas\u001b[0m \u001b[0me\u001b[0m\u001b[1;33m:\u001b[0m\u001b[1;33m\u001b[0m\u001b[1;33m\u001b[0m\u001b[0m\n",
      "\u001b[1;32mD:\\Program Files\\Works\\Anaconda3\\lib\\site-packages\\mvlearn-0.4.1-py3.7.egg\\mvlearn\\utils\\linalg.py\u001b[0m in \u001b[0;36meigh_wrapper\u001b[1;34m(A, B, rank, eval_descending)\u001b[0m\n\u001b[0;32m    138\u001b[0m \u001b[1;33m\u001b[0m\u001b[0m\n\u001b[1;32m--> 139\u001b[1;33m     \u001b[0mevals\u001b[0m\u001b[1;33m,\u001b[0m \u001b[0mevecs\u001b[0m \u001b[1;33m=\u001b[0m \u001b[0meigh\u001b[0m\u001b[1;33m(\u001b[0m\u001b[0ma\u001b[0m\u001b[1;33m=\u001b[0m\u001b[0mA\u001b[0m\u001b[1;33m,\u001b[0m \u001b[0mb\u001b[0m\u001b[1;33m=\u001b[0m\u001b[0mB\u001b[0m\u001b[1;33m,\u001b[0m \u001b[0msubset_by_index\u001b[0m\u001b[1;33m=\u001b[0m\u001b[0meigvals_idxs\u001b[0m\u001b[1;33m)\u001b[0m\u001b[1;33m\u001b[0m\u001b[1;33m\u001b[0m\u001b[0m\n\u001b[0m\u001b[0;32m    140\u001b[0m \u001b[1;33m\u001b[0m\u001b[0m\n",
      "\u001b[1;32mD:\\Program Files\\Works\\Anaconda3\\lib\\site-packages\\scipy\\linalg\\decomp.py\u001b[0m in \u001b[0;36meigh\u001b[1;34m(a, b, lower, eigvals_only, overwrite_a, overwrite_b, turbo, eigvals, type, check_finite, subset_by_index, subset_by_value, driver)\u001b[0m\n\u001b[0;32m    580\u001b[0m                               \u001b[1;34m'could not be completed and no eigenvalues '\u001b[0m\u001b[1;33m\u001b[0m\u001b[1;33m\u001b[0m\u001b[0m\n\u001b[1;32m--> 581\u001b[1;33m                               'or eigenvectors were computed.'.format(info-n))\n\u001b[0m\u001b[0;32m    582\u001b[0m         \u001b[1;32melse\u001b[0m\u001b[1;33m:\u001b[0m\u001b[1;33m\u001b[0m\u001b[1;33m\u001b[0m\u001b[0m\n",
      "\u001b[1;31mLinAlgError\u001b[0m: The leading minor of order 217 of B is not positive definite. The factorization of B could not be completed and no eigenvalues or eigenvectors were computed.",
      "\nDuring handling of the above exception, another exception occurred:\n",
      "\u001b[1;31mValueError\u001b[0m                                Traceback (most recent call last)",
      "\u001b[1;32m<ipython-input-5-43ee344752b8>\u001b[0m in \u001b[0;36m<module>\u001b[1;34m\u001b[0m\n\u001b[0;32m     10\u001b[0m         \u001b[0mXs_1_train\u001b[0m \u001b[1;33m=\u001b[0m \u001b[0mstand_means2\u001b[0m\u001b[1;33m.\u001b[0m\u001b[0mfit_transform\u001b[0m\u001b[1;33m(\u001b[0m\u001b[0mX_train\u001b[0m\u001b[1;33m[\u001b[0m\u001b[1;33m:\u001b[0m\u001b[1;33m,\u001b[0m\u001b[1;36m256\u001b[0m\u001b[1;33m:\u001b[0m\u001b[1;33m]\u001b[0m\u001b[1;33m)\u001b[0m\u001b[1;33m\u001b[0m\u001b[1;33m\u001b[0m\u001b[0m\n\u001b[0;32m     11\u001b[0m         \u001b[0mX_train_list\u001b[0m \u001b[1;33m=\u001b[0m \u001b[1;33m[\u001b[0m\u001b[0mXs_0_train\u001b[0m\u001b[1;33m,\u001b[0m \u001b[0mXs_1_train\u001b[0m\u001b[1;33m]\u001b[0m\u001b[1;33m\u001b[0m\u001b[1;33m\u001b[0m\u001b[0m\n\u001b[1;32m---> 12\u001b[1;33m         \u001b[0mX_train_mcca\u001b[0m \u001b[1;33m=\u001b[0m \u001b[0mmcca\u001b[0m\u001b[1;33m.\u001b[0m\u001b[0mfit_transform\u001b[0m\u001b[1;33m(\u001b[0m\u001b[0mX_train_list\u001b[0m\u001b[1;33m)\u001b[0m\u001b[1;33m\u001b[0m\u001b[1;33m\u001b[0m\u001b[0m\n\u001b[0m\u001b[0;32m     13\u001b[0m         \u001b[0mX_train_transformed\u001b[0m \u001b[1;33m=\u001b[0m \u001b[0mmerge\u001b[0m\u001b[1;33m.\u001b[0m\u001b[0mfit_transform\u001b[0m\u001b[1;33m(\u001b[0m\u001b[0mX_train_mcca\u001b[0m\u001b[1;33m)\u001b[0m\u001b[1;33m\u001b[0m\u001b[1;33m\u001b[0m\u001b[0m\n\u001b[0;32m     14\u001b[0m \u001b[1;33m\u001b[0m\u001b[0m\n",
      "\u001b[1;32mD:\\Program Files\\Works\\Anaconda3\\lib\\site-packages\\mvlearn-0.4.1-py3.7.egg\\mvlearn\\embed\\base.py\u001b[0m in \u001b[0;36mfit_transform\u001b[1;34m(self, Xs, y)\u001b[0m\n\u001b[0;32m    180\u001b[0m             \u001b[0mIf\u001b[0m\u001b[0;31m \u001b[0m\u001b[0;31m`\u001b[0m\u001b[0mmultiview_output\u001b[0m\u001b[0;31m`\u001b[0m\u001b[1;33m,\u001b[0m \u001b[0mreturns\u001b[0m \u001b[0mthe\u001b[0m \u001b[0mnormed\u001b[0m \u001b[0msum\u001b[0m \u001b[0mof\u001b[0m \u001b[0mtransformed\u001b[0m \u001b[0mviews\u001b[0m\u001b[1;33m\u001b[0m\u001b[1;33m\u001b[0m\u001b[0m\n\u001b[0;32m    181\u001b[0m         \"\"\"\n\u001b[1;32m--> 182\u001b[1;33m         \u001b[0mscores\u001b[0m\u001b[1;33m,\u001b[0m \u001b[0mcommon_scores_normed\u001b[0m \u001b[1;33m=\u001b[0m \u001b[0mself\u001b[0m\u001b[1;33m.\u001b[0m\u001b[0m_fit\u001b[0m\u001b[1;33m(\u001b[0m\u001b[0mXs\u001b[0m\u001b[1;33m)\u001b[0m\u001b[1;33m\u001b[0m\u001b[1;33m\u001b[0m\u001b[0m\n\u001b[0m\u001b[0;32m    183\u001b[0m         \u001b[1;32mif\u001b[0m \u001b[0mself\u001b[0m\u001b[1;33m.\u001b[0m\u001b[0mmultiview_output\u001b[0m\u001b[1;33m:\u001b[0m\u001b[1;33m\u001b[0m\u001b[1;33m\u001b[0m\u001b[0m\n\u001b[0;32m    184\u001b[0m             \u001b[1;32mreturn\u001b[0m \u001b[0mscores\u001b[0m\u001b[1;33m\u001b[0m\u001b[1;33m\u001b[0m\u001b[0m\n",
      "\u001b[1;32mD:\\Program Files\\Works\\Anaconda3\\lib\\site-packages\\mvlearn-0.4.1-py3.7.egg\\mvlearn\\embed\\mcca.py\u001b[0m in \u001b[0;36m_fit\u001b[1;34m(self, Xs)\u001b[0m\n\u001b[0;32m    151\u001b[0m                     \u001b[0mXs\u001b[0m\u001b[1;33m,\u001b[0m\u001b[1;33m\u001b[0m\u001b[1;33m\u001b[0m\u001b[0m\n\u001b[0;32m    152\u001b[0m                     \u001b[0mn_components\u001b[0m\u001b[1;33m=\u001b[0m\u001b[0mself\u001b[0m\u001b[1;33m.\u001b[0m\u001b[0mn_components\u001b[0m\u001b[1;33m,\u001b[0m\u001b[1;33m\u001b[0m\u001b[1;33m\u001b[0m\u001b[0m\n\u001b[1;32m--> 153\u001b[1;33m                     \u001b[0mregs\u001b[0m\u001b[1;33m=\u001b[0m\u001b[0mself\u001b[0m\u001b[1;33m.\u001b[0m\u001b[0mregs\u001b[0m\u001b[1;33m\u001b[0m\u001b[1;33m\u001b[0m\u001b[0m\n\u001b[0m\u001b[0;32m    154\u001b[0m                 )\n\u001b[0;32m    155\u001b[0m         \u001b[1;32mreturn\u001b[0m \u001b[0mscores\u001b[0m\u001b[1;33m,\u001b[0m \u001b[0mcommon_scores_normed\u001b[0m\u001b[1;33m\u001b[0m\u001b[1;33m\u001b[0m\u001b[0m\n",
      "\u001b[1;32mD:\\Program Files\\Works\\Anaconda3\\lib\\site-packages\\mvlearn-0.4.1-py3.7.egg\\mvlearn\\embed\\mcca.py\u001b[0m in \u001b[0;36m_mcca_gevp\u001b[1;34m(Xs, n_components, regs)\u001b[0m\n\u001b[0;32m    333\u001b[0m             raise ValueError(\n\u001b[0;32m    334\u001b[0m                 \u001b[1;34m\"Eigenvalue problem has a singular matrix. Add \"\u001b[0m \u001b[1;33m+\u001b[0m\u001b[1;33m\u001b[0m\u001b[1;33m\u001b[0m\u001b[0m\n\u001b[1;32m--> 335\u001b[1;33m                 \u001b[1;34m\"regularization (set `regs` to nonzero value) or reduce \"\u001b[0m \u001b[1;33m+\u001b[0m\u001b[1;33m\u001b[0m\u001b[1;33m\u001b[0m\u001b[0m\n\u001b[0m\u001b[0;32m    336\u001b[0m                 \"the rank (set `signal_rank` low enough).\")\n\u001b[0;32m    337\u001b[0m         \u001b[1;32melse\u001b[0m\u001b[1;33m:\u001b[0m\u001b[1;33m\u001b[0m\u001b[1;33m\u001b[0m\u001b[0m\n",
      "\u001b[1;31mValueError\u001b[0m: Eigenvalue problem has a singular matrix. Add regularization (set `regs` to nonzero value) or reduce the rank (set `signal_rank` low enough)."
     ]
    }
   ],
   "source": [
    "for i in range(20):\n",
    "    for train, test in kfold.split(X_resampled_smote, y_resampled_smote):\n",
    "        \n",
    "        stand_means1 = preprocessing.MinMaxScaler()\n",
    "        stand_means2 = preprocessing.MinMaxScaler()\n",
    "        \n",
    "        # 训练集\n",
    "        X_train = X_resampled_smote[train]\n",
    "        Xs_0_train = stand_means1.fit_transform(X_train[:,0:256])\n",
    "        Xs_1_train = stand_means2.fit_transform(X_train[:,256:])\n",
    "        X_train_list = [Xs_0_train, Xs_1_train]\n",
    "        X_train_mcca = mcca.fit_transform(X_train_list)\n",
    "        X_train_transformed = merge.fit_transform(X_train_mcca)\n",
    "        \n",
    "        clf = SVC(kernel=\"poly\", degree = 3)\n",
    "        #clf = DecisionTreeClassifier(max_depth=30)\n",
    "        clf.fit(X_train_transformed, y_resampled_smote[train])\n",
    "        \n",
    "        # 测试集\n",
    "        X_test = X_resampled_smote[test]\n",
    "        Xs_0_test = stand_means1.transform(X_test[:,0:256])\n",
    "        Xs_1_test = stand_means2.transform(X_test[:,256:])\n",
    "        X_test_list = [Xs_0_test, Xs_1_test]\n",
    "        X_test_mcca = mcca.transform(X_test_list)\n",
    "        X_test_transformed = merge.fit_transform(X_test_mcca)\n",
    "        \n",
    "        \n",
    "        predictions = clf.predict(X_test_transformed)\n",
    "        precisions, recall, f1score, _ = metrics.precision_recall_fscore_support(y_resampled_smote[test], predictions.round())\n",
    "\n",
    "        Sensitive.append(precisions[0])\n",
    "        Specificity.append(precisions[1])\n",
    "        Precision.append(recall[0])"
   ]
  },
  {
   "cell_type": "code",
   "execution_count": 6,
   "metadata": {},
   "outputs": [
    {
     "name": "stdout",
     "output_type": "stream",
     "text": [
      "灵敏度：0.7246±0.0669\n",
      "特异度：0.7140±0.0494\n",
      "精度：0.7069±0.0826\n",
      "灵敏度_标准差: 0.0669\n"
     ]
    }
   ],
   "source": [
    "print(\"灵敏度：{:.4f}±{:.4f}\".format(np.mean(Sensitive), np.std(Sensitive)))\n",
    "print(\"特异度：{:.4f}±{:.4f}\".format(np.mean(Specificity), np.std(Specificity)))\n",
    "print(\"精度：{:.4f}±{:.4f}\".format(np.mean(Precision), np.std(Precision)))\n",
    "print(\"灵敏度_标准差: %.4f\"%np.std(Sensitive))"
   ]
  },
  {
   "cell_type": "code",
   "execution_count": null,
   "metadata": {},
   "outputs": [],
   "source": []
  }
 ],
 "metadata": {
  "kernelspec": {
   "display_name": "Python 3",
   "language": "python",
   "name": "python3"
  },
  "language_info": {
   "codemirror_mode": {
    "name": "ipython",
    "version": 3
   },
   "file_extension": ".py",
   "mimetype": "text/x-python",
   "name": "python",
   "nbconvert_exporter": "python",
   "pygments_lexer": "ipython3",
   "version": "3.7.6"
  }
 },
 "nbformat": 4,
 "nbformat_minor": 4
}
